{
 "cells": [
  {
   "cell_type": "code",
   "execution_count": 1,
   "metadata": {},
   "outputs": [],
   "source": [
    "import numpy as np\n",
    "import pandas as pd"
   ]
  },
  {
   "cell_type": "code",
   "execution_count": null,
   "metadata": {},
   "outputs": [],
   "source": [
    "def get_data():\n",
    "    df = pd.read_csv('ecommerce_data.csv')\n",
    "    data = df.as_matrix()\n",
    "    \n",
    "    # Y is last column, X is everything up to last column\n",
    "    X = data[:, :-1]\n",
    "    Y = data[:, -1]\n",
    "    \n",
    "    # Normalize numerical columns\n",
    "    X[:,1] = (X[:,1] - X[:,1].mean() / X[:,1].std())\n",
    "    X[:,2] = (X[:,2] - X[:,2].mean() / X[:,2].std())\n",
    "    \n",
    "    # Want to work on categorical column which is time of day\n",
    "    N, D = X.shape\n",
    "    X2 = np.zeros((N, D+3))\n",
    "    X2[:, 0:(D-1)] = X[:, 0:(D-1)]\n",
    "    \n",
    "    # One hot encoding for other four columns\n",
    "    for n in xrange(N):\n",
    "        t = int(X[n, D-1])\n",
    "        X2[n, t+D-1] = 1"
   ]
  }
 ],
 "metadata": {
  "kernelspec": {
   "display_name": "Python 3",
   "language": "python",
   "name": "python3"
  },
  "language_info": {
   "codemirror_mode": {
    "name": "ipython",
    "version": 3
   },
   "file_extension": ".py",
   "mimetype": "text/x-python",
   "name": "python",
   "nbconvert_exporter": "python",
   "pygments_lexer": "ipython3",
   "version": "3.6.4"
  }
 },
 "nbformat": 4,
 "nbformat_minor": 2
}
